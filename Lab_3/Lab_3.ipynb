{
 "cells": [
  {
   "cell_type": "code",
   "execution_count": 1,
   "metadata": {},
   "outputs": [],
   "source": [
    "import torch\n",
    "import torch.nn as nn\n",
    "from sklearn.model_selection import train_test_split\n",
    "from nltk.tokenize import word_tokenize\n",
    "from torch.utils.data import DataLoader\n",
    "from sklearn import preprocessing\n",
    "import fasttext as ft\n",
    "import matplotlib.pyplot as plt\n",
    "import pandas as pd\n",
    "import numpy as np\n",
    "import copy"
   ]
  },
  {
   "cell_type": "markdown",
   "metadata": {},
   "source": [
    "### Глобальные переменные"
   ]
  },
  {
   "cell_type": "code",
   "execution_count": 2,
   "metadata": {},
   "outputs": [],
   "source": [
    "DATA_DIR  = 'ner_dataset.csv'\n",
    "\n",
    "NUM_EPOCHS = 10\n",
    "BATCH_SIZE = 128\n",
    "START_LR = 1e-3\n",
    "EMBED_DIM = 300\n",
    "MAX_LEN = 128\n",
    "MODEL_PATH = \"./state_dict.pt\"\n",
    "\n",
    "DEVICE = torch.device(\"cuda\" if torch.cuda.is_available() else \"cpu\")"
   ]
  },
  {
   "cell_type": "markdown",
   "metadata": {},
   "source": [
    "### Загрузка датасета"
   ]
  },
  {
   "cell_type": "code",
   "execution_count": 3,
   "metadata": {},
   "outputs": [
    {
     "data": {
      "text/plain": [
       "array(['O', 'B-geo', 'B-gpe', 'B-per', 'I-geo', 'B-org', 'I-org', 'B-tim',\n",
       "       'B-art', 'I-art', 'I-per', 'I-gpe', 'I-tim', 'B-nat', 'B-eve',\n",
       "       'I-eve', 'I-nat'], dtype=object)"
      ]
     },
     "execution_count": 3,
     "metadata": {},
     "output_type": "execute_result"
    }
   ],
   "source": [
    "df = pd.read_csv('ner_dataset.csv', encoding='unicode_escape')\n",
    "df['Tag'].unique()"
   ]
  },
  {
   "cell_type": "code",
   "execution_count": 4,
   "metadata": {},
   "outputs": [],
   "source": [
    "def process_data(data_path):\n",
    "    df = pd.read_csv(data_path, encoding='unicode_escape')\n",
    "    \n",
    "    enc_tag = preprocessing.LabelEncoder()\n",
    "\n",
    "    df.loc[:, \"Sentence #\"] = df[\"Sentence #\"].fillna(method=\"ffill\")\n",
    "    df.loc[:, \"Tag\"] = enc_tag.fit_transform(df[\"Tag\"])\n",
    "\n",
    "    sentences = df.groupby(\"Sentence #\")[\"Word\"].apply(list).values\n",
    "    tag = df.groupby(\"Sentence #\")[\"Tag\"].apply(list).values\n",
    "    return sentences, tag, enc_tag"
   ]
  },
  {
   "cell_type": "code",
   "execution_count": 5,
   "metadata": {},
   "outputs": [
    {
     "name": "stderr",
     "output_type": "stream",
     "text": [
      "C:\\Users\\Sanya\\AppData\\Local\\Temp\\ipykernel_15088\\1310700271.py:6: FutureWarning: Series.fillna with 'method' is deprecated and will raise in a future version. Use obj.ffill() or obj.bfill() instead.\n",
      "  df.loc[:, \"Sentence #\"] = df[\"Sentence #\"].fillna(method=\"ffill\")\n"
     ]
    }
   ],
   "source": [
    "sentences, tag, enc_tag = process_data(DATA_DIR)"
   ]
  },
  {
   "cell_type": "code",
   "execution_count": 6,
   "metadata": {},
   "outputs": [
    {
     "name": "stdout",
     "output_type": "stream",
     "text": [
      "['Thousands', 'of', 'demonstrators', 'have', 'marched', 'through', 'London', 'to', 'protest', 'the', 'war', 'in', 'Iraq', 'and', 'demand', 'the', 'withdrawal', 'of', 'British', 'troops', 'from', 'that', 'country', '.']\n",
      "[16, 16, 16, 16, 16, 16, 2, 16, 16, 16, 16, 16, 2, 16, 16, 16, 16, 16, 3, 16, 16, 16, 16, 16]\n"
     ]
    }
   ],
   "source": [
    "print(sentences[0])\n",
    "print(tag[0])"
   ]
  },
  {
   "cell_type": "markdown",
   "metadata": {},
   "source": [
    "### Загружаем fasttext для предобработки текста"
   ]
  },
  {
   "cell_type": "code",
   "execution_count": 7,
   "metadata": {},
   "outputs": [],
   "source": [
    "fasttext_model = ft.load_model(\"cc.en.300.bin\")"
   ]
  },
  {
   "cell_type": "markdown",
   "metadata": {},
   "source": [
    "### Работа с датасетом"
   ]
  },
  {
   "cell_type": "code",
   "execution_count": 8,
   "metadata": {},
   "outputs": [
    {
     "data": {
      "text/plain": [
       "array([1, 2, 3, 4, 0, 0])"
      ]
     },
     "execution_count": 8,
     "metadata": {},
     "output_type": "execute_result"
    }
   ],
   "source": [
    "t = [1, 2, 3 , 4]\n",
    "np.pad(t, (0,2) , 'constant', constant_values=0)"
   ]
  },
  {
   "cell_type": "code",
   "execution_count": 9,
   "metadata": {},
   "outputs": [],
   "source": [
    "class EntityDataset:\n",
    "    def __init__(self, texts, tags):\n",
    "        \"\"\"\n",
    "        Сразу предобрабатываем данные для более ускоренного вычисления\n",
    "        \"\"\"\n",
    "        self.texts = np.array([[fasttext_model.get_word_vector(w) for w in np.pad(text, (0, MAX_LEN - len(text)), 'constant', constant_values = '')] for text in texts])\n",
    "        self.tags = np.array([np.pad(tag, (0,MAX_LEN - len(tag)), 'constant', constant_values=0) for tag in tags])\n",
    "        self.masks = [np.concatenate([np.ones(len(tag)), np.zeros(MAX_LEN - len(tag))]) for tag in tags]\n",
    "        self.masks = np.array(self.masks)\n",
    "    def __len__(self):\n",
    "        return len(self.texts)\n",
    "    \n",
    "    def __getitem__(self, item):       \n",
    "        return (torch.tensor(self.texts[item], dtype=torch.float32),\n",
    "                torch.tensor(self.tags[item], dtype=torch.long),\n",
    "                torch.tensor(self.masks[item], dtype=torch.long))"
   ]
  },
  {
   "cell_type": "code",
   "execution_count": 10,
   "metadata": {},
   "outputs": [],
   "source": [
    "\"\"\" \n",
    "Разделение датасета на тренировочную, валидационную и тестовую выборку\n",
    "\"\"\"\n",
    "X_train, X_valid, y_train, y_valid = train_test_split(sentences, tag, test_size=0.33, random_state=42)\n",
    "X_test, X_valid, y_test, y_valid = train_test_split( X_valid, y_valid, test_size=0.5, random_state=42)"
   ]
  },
  {
   "cell_type": "code",
   "execution_count": 11,
   "metadata": {},
   "outputs": [],
   "source": [
    "data = {\n",
    "    'train':\n",
    "        EntityDataset(texts=X_train, tags=y_train),\n",
    "    'validation':\n",
    "        EntityDataset(texts=X_valid, tags=y_valid),\n",
    "    'test':\n",
    "        EntityDataset(texts=X_valid, tags=y_valid),\n",
    "}\n",
    "\n",
    "\"\"\" \n",
    "Загрузка данных на устройство \n",
    "\"\"\"\n",
    "loaders = {\n",
    "    'train':\n",
    "        DataLoader(data['train'], batch_size=BATCH_SIZE, shuffle=False, num_workers=0, drop_last=True),\n",
    "    'validation':\n",
    "        DataLoader(data['validation'], batch_size=BATCH_SIZE, shuffle=False, num_workers=0, drop_last=True),\n",
    "    'test':\n",
    "        DataLoader(data['test'], batch_size=BATCH_SIZE, shuffle=False, num_workers=0, drop_last=True),\n",
    "\n",
    "}"
   ]
  },
  {
   "cell_type": "markdown",
   "metadata": {},
   "source": [
    "### Создание модели"
   ]
  },
  {
   "cell_type": "code",
   "execution_count": 12,
   "metadata": {},
   "outputs": [],
   "source": [
    "class EntityModel(nn.Module):\n",
    "    def __init__(self, output_size, embedding_dim, hidden_dim, n_layers, drop_prob=0.5, bidirectional=False):\n",
    "        super().__init__()\n",
    "\n",
    "        self.output_size = output_size\n",
    "        self.n_layers = n_layers\n",
    "        self.hidden_dim = hidden_dim\n",
    "        \n",
    "        self.lstm = nn.LSTM(embedding_dim, hidden_dim, n_layers, dropout=drop_prob, batch_first=True, bidirectional=bidirectional)\n",
    "        self.dropout = nn.Dropout(drop_prob)\n",
    "        self.fc = nn.Linear(hidden_dim, output_size)\n",
    "    \n",
    "    def forward(self, embeds, hidden):\n",
    "\n",
    "        lstm_out, hidden = self.lstm(embeds, hidden)\n",
    "        lstm_out = lstm_out.contiguous().view(-1, self.hidden_dim)\n",
    "        dropout = self.dropout(lstm_out)\n",
    "        out = self.fc(dropout)\n",
    "\n",
    "        return out, hidden\n",
    "    \n",
    "    def init_hidden(self, batch_size):\n",
    "\n",
    "        num_directions = 2 if self.lstm.bidirectional else 1\n",
    "        print(\"num_directions\", num_directions)\n",
    "\n",
    "        h_zeros = torch.zeros(self.n_layers * num_directions,\n",
    "                              batch_size, self.hidden_dim,\n",
    "                              dtype=torch.float32, device=DEVICE)\n",
    "        \n",
    "        c_zeros = torch.zeros(self.n_layers * num_directions,\n",
    "                              batch_size, self.hidden_dim,\n",
    "                              dtype=torch.float32, device=DEVICE)\n",
    "\n",
    "        return (h_zeros, c_zeros)"
   ]
  },
  {
   "cell_type": "code",
   "execution_count": 13,
   "metadata": {},
   "outputs": [],
   "source": [
    "def loss_fn(output, target, mask, num_labels):\n",
    "    \"\"\" \n",
    "    Функция для вычисления потерь модели\n",
    "    \"\"\"\n",
    "    lfn = nn.CrossEntropyLoss()\n",
    "    active_loss = mask.view(-1) == 1\n",
    "    active_logits = output.view(-1, num_labels)\n",
    "    active_labels = torch.where(\n",
    "        active_loss,\n",
    "        target.view(-1),\n",
    "        torch.tensor(lfn.ignore_index).type_as(target)\n",
    "    )\n",
    "    loss = lfn(active_logits, active_labels)\n",
    "    return loss"
   ]
  },
  {
   "cell_type": "code",
   "execution_count": 14,
   "metadata": {},
   "outputs": [],
   "source": [
    "def acc_stat(pred, target, mask):\n",
    "    \"\"\"\n",
    "    Функция оценки точности модели \n",
    "    \"\"\"\n",
    "    mask = mask.bool()\n",
    "    pred = torch.masked_select(pred, mask)\n",
    "    target = torch.masked_select(target, mask)\n",
    "    correct = torch.sum(target == pred)\n",
    "    total = len(target)\n",
    "    return correct, total"
   ]
  },
  {
   "cell_type": "code",
   "execution_count": 15,
   "metadata": {},
   "outputs": [
    {
     "name": "stderr",
     "output_type": "stream",
     "text": [
      "c:\\Users\\Sanya\\AppData\\Local\\Programs\\Python\\Python39\\lib\\site-packages\\tqdm\\auto.py:21: TqdmWarning: IProgress not found. Please update jupyter and ipywidgets. See https://ipywidgets.readthedocs.io/en/stable/user_install.html\n",
      "  from .autonotebook import tqdm as notebook_tqdm\n"
     ]
    }
   ],
   "source": [
    "hidden_dim = 512\n",
    "n_layers = 2\n",
    "num_tag = len(list(enc_tag.classes_))\n",
    "\n",
    "model = EntityModel(num_tag, EMBED_DIM, hidden_dim, n_layers, drop_prob=0.5, bidirectional=False)\n",
    "model.to(DEVICE)\n",
    "\n",
    "optimizer = torch.optim.Adam(model.parameters(), lr=START_LR)\n",
    "lr_scheduler = torch.optim.lr_scheduler.CosineAnnealingWarmRestarts(optimizer, T_0=1, T_mult=2, eta_min=5e-5)"
   ]
  },
  {
   "cell_type": "markdown",
   "metadata": {},
   "source": [
    "### Обучение модели"
   ]
  },
  {
   "cell_type": "code",
   "execution_count": 16,
   "metadata": {},
   "outputs": [
    {
     "name": "stdout",
     "output_type": "stream",
     "text": [
      "Epoch 1/10\n",
      "----------\n",
      "num_directions 1\n",
      "train loss: 0.0260, acc: 86.8333\n",
      "validation loss: 0.0119, acc: 91.7955\n",
      "Epoch 2/10\n",
      "----------\n",
      "num_directions 1\n",
      "train loss: 0.0098, acc: 93.7332\n",
      "validation loss: 0.0076, acc: 95.2711\n",
      "Epoch 3/10\n",
      "----------\n",
      "num_directions 1\n",
      "train loss: 0.0077, acc: 95.2043\n",
      "validation loss: 0.0067, acc: 95.6736\n",
      "Epoch 4/10\n",
      "----------\n",
      "num_directions 1\n",
      "train loss: 0.0070, acc: 95.5078\n",
      "validation loss: 0.0063, acc: 95.8440\n",
      "Epoch 5/10\n",
      "----------\n",
      "num_directions 1\n",
      "train loss: 0.0066, acc: 95.7151\n",
      "validation loss: 0.0061, acc: 95.9392\n",
      "Epoch 6/10\n",
      "----------\n",
      "num_directions 1\n",
      "train loss: 0.0063, acc: 95.8316\n",
      "validation loss: 0.0060, acc: 96.0326\n",
      "Epoch 7/10\n",
      "----------\n",
      "num_directions 1\n",
      "train loss: 0.0060, acc: 95.9775\n",
      "validation loss: 0.0058, acc: 96.0726\n",
      "Epoch 8/10\n",
      "----------\n",
      "num_directions 1\n",
      "train loss: 0.0058, acc: 96.0688\n",
      "validation loss: 0.0058, acc: 96.0949\n",
      "Epoch 9/10\n",
      "----------\n",
      "num_directions 1\n",
      "train loss: 0.0056, acc: 96.1516\n",
      "validation loss: 0.0057, acc: 96.1354\n",
      "Epoch 10/10\n",
      "----------\n",
      "num_directions 1\n",
      "train loss: 0.0055, acc: 96.2488\n",
      "validation loss: 0.0056, acc: 96.1713\n"
     ]
    },
    {
     "data": {
      "text/plain": [
       "<All keys matched successfully>"
      ]
     },
     "execution_count": 16,
     "metadata": {},
     "output_type": "execute_result"
    }
   ],
   "source": [
    "train_losses = []\n",
    "valid_losses = []\n",
    "\n",
    "train_acc = []\n",
    "valid_acc = []\n",
    "\n",
    "def train_model(model, optimizer, num_epochs=NUM_EPOCHS):\n",
    "    best_model_wts = copy.deepcopy(model.state_dict())\n",
    "    best_acc = 0.0\n",
    "\n",
    "    for epoch in range(num_epochs):\n",
    "        print('Epoch {}/{}'.format(epoch+1, num_epochs))\n",
    "        print('-' * 10)\n",
    "    \n",
    "        h = model.init_hidden(BATCH_SIZE)\n",
    "\n",
    "        for phase in ['train', 'validation']:\n",
    "            if phase == 'train':\n",
    "                model.train()\n",
    "            else:\n",
    "                model.eval()\n",
    "\n",
    "            correct_sum, total_sum = 0, 0\n",
    "            running_loss = 0\n",
    "\n",
    "            for inputs, labels, masks in loaders[phase]:\n",
    "                h = tuple([each.data for each in h])\n",
    "\n",
    "                inputs = inputs.to(DEVICE)\n",
    "                labels = labels.to(DEVICE)\n",
    "                masks = masks.to(DEVICE)\n",
    "\n",
    "                model.zero_grad()\n",
    "                outputs, h = model(inputs, h)\n",
    "                loss = loss_fn(outputs, labels.flatten(), masks, num_tag)\n",
    "\n",
    "                if phase == 'train':\n",
    "                    optimizer.zero_grad()\n",
    "                    loss.backward()\n",
    "                    optimizer.step()\n",
    "\n",
    "                running_loss += loss.item() * inputs.size(0)\n",
    "                corrects, total =  acc_stat(torch.argmax(outputs, dim=-1).flatten(), labels.flatten(), masks.flatten())\n",
    "                correct_sum += corrects\n",
    "                total_sum += total \n",
    "                \n",
    "            epoch_loss = running_loss / total_sum\n",
    "            epoch_acc = correct_sum.double() / total_sum\n",
    "            if phase == 'train':\n",
    "                train_losses.append(epoch_loss)\n",
    "                train_acc.append(epoch_acc.cpu())\n",
    "            else:\n",
    "                valid_losses.append(epoch_loss)\n",
    "                valid_acc.append(epoch_acc.cpu())\n",
    "\n",
    "                if best_acc < epoch_acc: \n",
    "                    best_acc = epoch_acc\n",
    "                    best_model_wts = copy.deepcopy(model.state_dict())\n",
    "            print('{} loss: {:.4f}, acc: {:.4f}'.format(phase,\n",
    "                                                        epoch_loss,\n",
    "                                                        100*epoch_acc))\n",
    "    return model.load_state_dict(best_model_wts)\n",
    "\n",
    "train_model(model, optimizer)"
   ]
  },
  {
   "cell_type": "markdown",
   "metadata": {},
   "source": [
    "### Графики обучения модели"
   ]
  },
  {
   "cell_type": "code",
   "execution_count": 17,
   "metadata": {},
   "outputs": [
    {
     "data": {
      "text/plain": [
       "Text(0, 0.5, 'Loss')"
      ]
     },
     "execution_count": 17,
     "metadata": {},
     "output_type": "execute_result"
    },
    {
     "data": {
      "image/png": "[encoded data removed]",
      "text/plain": [
       "<Figure size 1000x1000 with 1 Axes>"
      ]
     },
     "metadata": {},
     "output_type": "display_data"
    },
    {
     "data": {
      "image/png": "[encoded data removed]",
      "text/plain": [
       "<Figure size 1000x1000 with 1 Axes>"
      ]
     },
     "metadata": {},
     "output_type": "display_data"
    }
   ],
   "source": [
    "fig = plt.figure(figsize=(10, 10))\n",
    "\n",
    "plt.plot(train_losses, label='train')\n",
    "plt.plot(valid_losses, label='valid')\n",
    "plt.legend()\n",
    "plt.xlabel('Iterations')\n",
    "plt.ylabel('Loss')\n",
    "\n",
    "fig = plt.figure(figsize=(10, 10))\n",
    "\n",
    "plt.plot(train_acc, label='train')\n",
    "plt.plot(valid_acc, label='valid')\n",
    "plt.legend()\n",
    "plt.xlabel('Iterations')\n",
    "plt.ylabel('Loss')"
   ]
  },
  {
   "cell_type": "markdown",
   "metadata": {},
   "source": [
    "### Тестирование модели"
   ]
  },
  {
   "cell_type": "code",
   "execution_count": 18,
   "metadata": {},
   "outputs": [
    {
     "name": "stdout",
     "output_type": "stream",
     "text": [
      "num_directions 1\n",
      "Test acc: 96.1724\n"
     ]
    }
   ],
   "source": [
    "h = model.init_hidden(BATCH_SIZE)    \n",
    "correct_sum, total_sum = 0, 0\n",
    "with torch.no_grad():\n",
    "    for inputs, labels, masks in loaders['test']:\n",
    "        h = tuple([each.data for each in h])\n",
    "        inputs = inputs.to(DEVICE)\n",
    "        labels = labels.to(DEVICE)\n",
    "        masks = masks.to(DEVICE)\n",
    "        \n",
    "        model.zero_grad()\n",
    "        output, h = model(inputs, h)\n",
    "            \n",
    "        correct, total = acc_stat(torch.argmax(output, dim=-1).flatten(), labels.flatten(), masks.flatten())\n",
    "        correct_sum += correct\n",
    "        total_sum += total\n",
    "print('Test acc: {:.4f}'.format( 100*correct_sum/total_sum))"
   ]
  },
  {
   "cell_type": "markdown",
   "metadata": {},
   "source": [
    "### Тестируем модель на собственном предложении"
   ]
  },
  {
   "cell_type": "code",
   "execution_count": 19,
   "metadata": {},
   "outputs": [
    {
     "name": "stdout",
     "output_type": "stream",
     "text": [
      "num_directions 1\n",
      "['B-per' 'I-per' 'O' 'O' 'O' 'B-geo']\n"
     ]
    },
    {
     "name": "stderr",
     "output_type": "stream",
     "text": [
      "C:\\Users\\Sanya\\AppData\\Local\\Temp\\ipykernel_15088\\2656275636.py:5: UserWarning: Creating a tensor from a list of numpy.ndarrays is extremely slow. Please consider converting the list to a single numpy.ndarray with numpy.array() before converting to a tensor. (Triggered internally at C:\\actions-runner\\_work\\pytorch\\pytorch\\builder\\windows\\pytorch\\torch\\csrc\\utils\\tensor_new.cpp:264.)\n",
      "  inputs = torch.tensor([fasttext_model.get_word_vector(s) for s in word_tokenize(text)], dtype=torch.float32)\n"
     ]
    }
   ],
   "source": [
    "text = \"\"\"\n",
    "Sonya Volodina was born in Barnaul\n",
    "\"\"\"\n",
    "with torch.no_grad():\n",
    "    inputs = torch.tensor([fasttext_model.get_word_vector(s) for s in word_tokenize(text)], dtype=torch.float32)\n",
    "    inputs = inputs.unsqueeze(0).to(DEVICE)\n",
    "    h = model.init_hidden(1)\n",
    "    tag, h = model(inputs, h)\n",
    "\n",
    "    print(\n",
    "        enc_tag.inverse_transform(\n",
    "            tag.argmax(-1).cpu().numpy().reshape(-1)\n",
    "        )\n",
    "    )"
   ]
  }
 ],
 "metadata": {
  "kernelspec": {
   "display_name": "Python 3",
   "language": "python",
   "name": "python3"
  },
  "language_info": {
   "codemirror_mode": {
    "name": "ipython",
    "version": 3
   },
   "file_extension": ".py",
   "mimetype": "text/x-python",
   "name": "python",
   "nbconvert_exporter": "python",
   "pygments_lexer": "ipython3",
   "version": "3.9.13"
  }
 },
 "nbformat": 4,
 "nbformat_minor": 2
}
