{
 "cells": [
  {
   "cell_type": "code",
   "execution_count": 2,
   "id": "baede3bc-2b41-4ff0-89a9-6bf79bc4f8f0",
   "metadata": {
    "editable": true,
    "scrolled": true,
    "slideshow": {
     "slide_type": ""
    },
    "tags": []
   },
   "outputs": [
    {
     "name": "stderr",
     "output_type": "stream",
     "text": [
      "[nltk_data] Downloading package punkt to /root/nltk_data...\n",
      "[nltk_data]   Package punkt is already up-to-date!\n"
     ]
    }
   ],
   "source": [
    "from transformers import MBartTokenizer, MBartForConditionalGeneration\n",
    "from transformers import (\n",
    "    DataCollatorForSeq2Seq,\n",
    "    MT5ForConditionalGeneration,\n",
    "    MT5Tokenizer,\n",
    "    pipeline,\n",
    "    Seq2SeqTrainingArguments,\n",
    "    Seq2SeqTrainer,\n",
    ") \n",
    "from datasets import load_dataset, load_metric\n",
    "import torch\n",
    "import nltk\n",
    "nltk.download('punkt')\n",
    "\n",
    "from tqdm import tqdm\n",
    "import evaluate\n",
    "import pickle\n",
    "\n",
    "\n",
    "import pandas as pd\n",
    "import numpy as np"
   ]
  },
  {
   "cell_type": "code",
   "execution_count": 6,
   "id": "0f4136b3-b76c-4bc6-9f17-be89ba40ebcb",
   "metadata": {},
   "outputs": [],
   "source": [
    "DEVICE = torch.device('cuda:0')\n",
    "PATH_DATA = \"IlyaGusev/gazeta\"\n",
    "PATH_MBART = \"IlyaGusev/mbart_ru_sum_gazeta\""
   ]
  },
  {
   "cell_type": "markdown",
   "id": "7460e989-c75b-40c3-a17c-91c6c4cbcb05",
   "metadata": {},
   "source": [
    "# Загрузка датасета"
   ]
  },
  {
   "cell_type": "code",
   "execution_count": 7,
   "id": "9a299997-f204-4515-b8a6-95e45f429b02",
   "metadata": {
    "editable": true,
    "slideshow": {
     "slide_type": ""
    },
    "tags": []
   },
   "outputs": [],
   "source": [
    "dataset = load_dataset(PATH_DATA)"
   ]
  },
  {
   "cell_type": "code",
   "execution_count": 8,
   "id": "17a590ec-7896-40fc-b4a3-e6c2caea2387",
   "metadata": {},
   "outputs": [
    {
     "data": {
      "text/html": [
       "<div>\n",
       "<style scoped>\n",
       "    .dataframe tbody tr th:only-of-type {\n",
       "        vertical-align: middle;\n",
       "    }\n",
       "\n",
       "    .dataframe tbody tr th {\n",
       "        vertical-align: top;\n",
       "    }\n",
       "\n",
       "    .dataframe thead th {\n",
       "        text-align: right;\n",
       "    }\n",
       "</style>\n",
       "<table border=\"1\" class=\"dataframe\">\n",
       "  <thead>\n",
       "    <tr style=\"text-align: right;\">\n",
       "      <th></th>\n",
       "      <th>text</th>\n",
       "      <th>summary</th>\n",
       "      <th>title</th>\n",
       "      <th>date</th>\n",
       "      <th>url</th>\n",
       "    </tr>\n",
       "  </thead>\n",
       "  <tbody>\n",
       "    <tr>\n",
       "      <th>0</th>\n",
       "      <td>На этих выходных в Берлине прошли крупные акци...</td>\n",
       "      <td>Протестующие против антикоронавирусных мер нем...</td>\n",
       "      <td>В Германии объяснили упоминание имени Путина н...</td>\n",
       "      <td>2020-09-01 00:22:59</td>\n",
       "      <td>https://www.gazeta.ru/politics/2020/08/31_a_13...</td>\n",
       "    </tr>\n",
       "    <tr>\n",
       "      <th>1</th>\n",
       "      <td>Высокопоставленная американская и израильская ...</td>\n",
       "      <td>Делегации Израиля и США прилетели в ОАЭ, где о...</td>\n",
       "      <td>Делегации Израиля и США прибыли в ОАЭ для обсу...</td>\n",
       "      <td>2020-09-01 08:08:16</td>\n",
       "      <td>https://www.gazeta.ru/politics/2020/08/31_a_13...</td>\n",
       "    </tr>\n",
       "    <tr>\n",
       "      <th>2</th>\n",
       "      <td>Одна из руководителей Координационного совета ...</td>\n",
       "      <td>Белорусская оппозиция в лице экс-кандидата в п...</td>\n",
       "      <td>Оппозиция Белоруссии объявила о создании новой...</td>\n",
       "      <td>2020-09-01 09:21:38</td>\n",
       "      <td>https://www.gazeta.ru/politics/2020/09/01_a_13...</td>\n",
       "    </tr>\n",
       "    <tr>\n",
       "      <th>3</th>\n",
       "      <td>Россия считает действия ВС США во время учений...</td>\n",
       "      <td>Действия американских ВС в Эстонии во время уч...</td>\n",
       "      <td>Россия считает крайне опасными действия США на...</td>\n",
       "      <td>2020-09-01 09:33:30</td>\n",
       "      <td>https://www.gazeta.ru/army/2020/09/01/13222904...</td>\n",
       "    </tr>\n",
       "    <tr>\n",
       "      <th>4</th>\n",
       "      <td>С 1 сентября в России вступают в силу поправки...</td>\n",
       "      <td>Поправки в российский закон «О банкротстве» вс...</td>\n",
       "      <td>В России вступил в силу закон о внесудебном ба...</td>\n",
       "      <td>2020-09-01 09:49:24</td>\n",
       "      <td>https://www.gazeta.ru/business/2020/09/01/1322...</td>\n",
       "    </tr>\n",
       "    <tr>\n",
       "      <th>...</th>\n",
       "      <td>...</td>\n",
       "      <td>...</td>\n",
       "      <td>...</td>\n",
       "      <td>...</td>\n",
       "      <td>...</td>\n",
       "    </tr>\n",
       "    <tr>\n",
       "      <th>6788</th>\n",
       "      <td>Феерическим взрывом в атмосфере закончился пер...</td>\n",
       "      <td>Первый пуск американской частной ракеты Alpha ...</td>\n",
       "      <td>СМИ назвали успехом запуск частной ракеты Alph...</td>\n",
       "      <td>2021-09-03 09:28:34</td>\n",
       "      <td>https://www.gazeta.ru/science/2021/09/03_a_139...</td>\n",
       "    </tr>\n",
       "    <tr>\n",
       "      <th>6789</th>\n",
       "      <td>Глава Минвостокразвития Алексей Чекунков 31 ав...</td>\n",
       "      <td>Городская агломерация Владивостока может дости...</td>\n",
       "      <td>На ВЭФ подписано соглашение о создании города ...</td>\n",
       "      <td>2021-09-03 09:45:36</td>\n",
       "      <td>https://www.gazeta.ru/economics/2021/09/03/139...</td>\n",
       "    </tr>\n",
       "    <tr>\n",
       "      <th>6790</th>\n",
       "      <td>После взрывов во Врбетице отношения между Чехи...</td>\n",
       "      <td>Из-за геополитической и экономической роли Рос...</td>\n",
       "      <td>Глава чешского МИДа призвал восстанавливать св...</td>\n",
       "      <td>2021-09-03 10:44:03</td>\n",
       "      <td>https://www.gazeta.ru/politics/2021/09/03_a_13...</td>\n",
       "    </tr>\n",
       "    <tr>\n",
       "      <th>6791</th>\n",
       "      <td>Астрономы впервые наблюдали процесс вспышки св...</td>\n",
       "      <td>Международная группа астрономов впервые наблюд...</td>\n",
       "      <td>Астрономы наблюдали вспышку сверхновой нового ...</td>\n",
       "      <td>2021-09-03 11:43:50</td>\n",
       "      <td>https://www.gazeta.ru/science/2021/09/03_a_139...</td>\n",
       "    </tr>\n",
       "    <tr>\n",
       "      <th>6792</th>\n",
       "      <td>Москва никогда не отказывалась обсуждать с Ток...</td>\n",
       "      <td>Токио пока не дал гарантий Москве, что не стан...</td>\n",
       "      <td>Путин объяснил, что мешает заключению мира с Я...</td>\n",
       "      <td>2021-09-03 11:50:27</td>\n",
       "      <td>https://www.gazeta.ru/politics/2021/09/03_a_13...</td>\n",
       "    </tr>\n",
       "  </tbody>\n",
       "</table>\n",
       "<p>6793 rows × 5 columns</p>\n",
       "</div>"
      ],
      "text/plain": [
       "                                                   text  \\\n",
       "0     На этих выходных в Берлине прошли крупные акци...   \n",
       "1     Высокопоставленная американская и израильская ...   \n",
       "2     Одна из руководителей Координационного совета ...   \n",
       "3     Россия считает действия ВС США во время учений...   \n",
       "4     С 1 сентября в России вступают в силу поправки...   \n",
       "...                                                 ...   \n",
       "6788  Феерическим взрывом в атмосфере закончился пер...   \n",
       "6789  Глава Минвостокразвития Алексей Чекунков 31 ав...   \n",
       "6790  После взрывов во Врбетице отношения между Чехи...   \n",
       "6791  Астрономы впервые наблюдали процесс вспышки св...   \n",
       "6792  Москва никогда не отказывалась обсуждать с Ток...   \n",
       "\n",
       "                                                summary  \\\n",
       "0     Протестующие против антикоронавирусных мер нем...   \n",
       "1     Делегации Израиля и США прилетели в ОАЭ, где о...   \n",
       "2     Белорусская оппозиция в лице экс-кандидата в п...   \n",
       "3     Действия американских ВС в Эстонии во время уч...   \n",
       "4     Поправки в российский закон «О банкротстве» вс...   \n",
       "...                                                 ...   \n",
       "6788  Первый пуск американской частной ракеты Alpha ...   \n",
       "6789  Городская агломерация Владивостока может дости...   \n",
       "6790  Из-за геополитической и экономической роли Рос...   \n",
       "6791  Международная группа астрономов впервые наблюд...   \n",
       "6792  Токио пока не дал гарантий Москве, что не стан...   \n",
       "\n",
       "                                                  title                 date  \\\n",
       "0     В Германии объяснили упоминание имени Путина н...  2020-09-01 00:22:59   \n",
       "1     Делегации Израиля и США прибыли в ОАЭ для обсу...  2020-09-01 08:08:16   \n",
       "2     Оппозиция Белоруссии объявила о создании новой...  2020-09-01 09:21:38   \n",
       "3     Россия считает крайне опасными действия США на...  2020-09-01 09:33:30   \n",
       "4     В России вступил в силу закон о внесудебном ба...  2020-09-01 09:49:24   \n",
       "...                                                 ...                  ...   \n",
       "6788  СМИ назвали успехом запуск частной ракеты Alph...  2021-09-03 09:28:34   \n",
       "6789  На ВЭФ подписано соглашение о создании города ...  2021-09-03 09:45:36   \n",
       "6790  Глава чешского МИДа призвал восстанавливать св...  2021-09-03 10:44:03   \n",
       "6791  Астрономы наблюдали вспышку сверхновой нового ...  2021-09-03 11:43:50   \n",
       "6792  Путин объяснил, что мешает заключению мира с Я...  2021-09-03 11:50:27   \n",
       "\n",
       "                                                    url  \n",
       "0     https://www.gazeta.ru/politics/2020/08/31_a_13...  \n",
       "1     https://www.gazeta.ru/politics/2020/08/31_a_13...  \n",
       "2     https://www.gazeta.ru/politics/2020/09/01_a_13...  \n",
       "3     https://www.gazeta.ru/army/2020/09/01/13222904...  \n",
       "4     https://www.gazeta.ru/business/2020/09/01/1322...  \n",
       "...                                                 ...  \n",
       "6788  https://www.gazeta.ru/science/2021/09/03_a_139...  \n",
       "6789  https://www.gazeta.ru/economics/2021/09/03/139...  \n",
       "6790  https://www.gazeta.ru/politics/2021/09/03_a_13...  \n",
       "6791  https://www.gazeta.ru/science/2021/09/03_a_139...  \n",
       "6792  https://www.gazeta.ru/politics/2021/09/03_a_13...  \n",
       "\n",
       "[6793 rows x 5 columns]"
      ]
     },
     "execution_count": 8,
     "metadata": {},
     "output_type": "execute_result"
    }
   ],
   "source": [
    "df = pd.DataFrame(dataset['test'])\n",
    "df"
   ]
  },
  {
   "cell_type": "code",
   "execution_count": 9,
   "id": "d47d19ab-80e5-4000-a026-dffccb0b670d",
   "metadata": {},
   "outputs": [],
   "source": [
    "N = len(df)"
   ]
  },
  {
   "cell_type": "markdown",
   "id": "5326cd23",
   "metadata": {},
   "source": [
    "# Метрики"
   ]
  },
  {
   "cell_type": "code",
   "execution_count": 3,
   "id": "5a720eea-e324-473e-ad38-4ed0f39c2a19",
   "metadata": {},
   "outputs": [],
   "source": [
    "rouge = evaluate.load(\"rouge\")\n",
    "bleu = evaluate.load(\"bleu\")"
   ]
  },
  {
   "cell_type": "markdown",
   "id": "6b349308-9fed-40c5-a102-522e20a592ec",
   "metadata": {},
   "source": [
    "# Mbart"
   ]
  },
  {
   "cell_type": "code",
   "execution_count": null,
   "id": "1ac2fa56-7eb2-4e51-a72d-d92fc6969ab0",
   "metadata": {},
   "outputs": [],
   "source": [
    "from transformers import MBartTokenizer, MBartForConditionalGeneration\n",
    "\"\"\" \n",
    "Загрузка модели\n",
    "\"\"\"\n",
    "model_name = PATH_MBART\n",
    "tokenizer = MBartTokenizer.from_pretrained(model_name)\n",
    "model = MBartForConditionalGeneration.from_pretrained(model_name).to(DEVICE)"
   ]
  },
  {
   "cell_type": "code",
   "execution_count": 9,
   "id": "6989008d-b76d-4523-a182-ba065f42b081",
   "metadata": {
    "scrolled": true
   },
   "outputs": [
    {
     "name": "stderr",
     "output_type": "stream",
     "text": [
      "Sentence: 6792, bleu: {'bleu': 0.0, 'precisions': [0.2542372881355932, 0.034482758620689655, 0.0, 0.0], 'brevity_penalty': 1.0, 'length_ratio': 1.475, 'translation_length': 59, 'reference_length': 40}: 100%|██████████| 6793/6793 [2:15:04<00:00,  1.19s/it]                                                                                \n"
     ]
    }
   ],
   "source": [
    "score = []\n",
    "predictions = []\n",
    "for i, text in enumerate(pbar := tqdm(df['text'], total = N)):\n",
    "\n",
    "    input_ids = tokenizer(\n",
    "        text,\n",
    "        max_length = 600,\n",
    "        padding = \"max_length\",\n",
    "        truncation = True,\n",
    "        return_tensors = \"pt\",\n",
    "    )[\"input_ids\"]\n",
    "\n",
    "    input_ids = input_ids.to(DEVICE)\n",
    "    output_ids = model.generate(\n",
    "        input_ids = input_ids,\n",
    "        no_repeat_ngram_size = 4\n",
    "    )[0]\n",
    "\n",
    "    summary = tokenizer.decode(output_ids, skip_special_tokens=True)\n",
    "    \"\"\"\n",
    "    Подсчет метрики для каждого предложения\n",
    "    \"\"\"\n",
    "    result_bleu  = bleu.compute(predictions = list([summary]), references= [[df['summary'][i]]])\n",
    "    result_rouge = rouge.compute(predictions = list([summary]), references= [[df['summary'][i]]])\n",
    "    pbar.set_description('Sentence: {}, bleu: {}'.format(i, result))\n",
    "    predictions.append(summary)"
   ]
  },
  {
   "cell_type": "code",
   "execution_count": 10,
   "id": "6e8be13d-86d7-4f9c-bf39-7ad4d3ede25a",
   "metadata": {},
   "outputs": [],
   "source": [
    "\"\"\" \n",
    "Сохарняем предсказанные значения\n",
    "\"\"\"\n",
    "with open('predicts', 'wb') as file:\n",
    "    pickle.dump(predictions, file)"
   ]
  },
  {
   "cell_type": "code",
   "execution_count": 4,
   "id": "168e3014-afb4-49f3-bba6-01bd4fc61273",
   "metadata": {},
   "outputs": [],
   "source": [
    "\"\"\" \n",
    "При необходимости загружаем готовые значения\n",
    "\"\"\"\n",
    "# obj = pd.read_pickle(r'predicts')"
   ]
  },
  {
   "cell_type": "code",
   "execution_count": 11,
   "id": "4bea515a-aa40-47df-82e1-2da1906ca1e9",
   "metadata": {
    "scrolled": true
   },
   "outputs": [
    {
     "name": "stdout",
     "output_type": "stream",
     "text": [
      "Среднее значение bleu модели MBart :  8.499904392029368\n",
      "Среднее значение rouge модели MBart :  22.409932389050695\n"
     ]
    }
   ],
   "source": [
    "\"\"\" \n",
    "Выводим среднее значение метрик для модели mBart\n",
    "\"\"\"\n",
    "mean_bleu_mbart = bleu.compute(predictions = predictions, references= df['summary'].values)\n",
    "mean_rouge_mbart =  rouge.compute(predictions = predictions, references= df['summary'].values)\n",
    "\n",
    "print('Среднее значение bleu модели MBart : ', mean_bleu_mbart['bleu'] * 100) \n",
    "print('Среднее значение rouge модели MBart : ', mean_rouge_mbart['rouge1'] * 100) "
   ]
  },
  {
   "cell_type": "markdown",
   "id": "d52184d3",
   "metadata": {},
   "source": [
    "# T5"
   ]
  },
  {
   "cell_type": "code",
   "execution_count": 12,
   "id": "c0b8adac-ffc2-4c3f-9b0a-a6528bffb576",
   "metadata": {},
   "outputs": [
    {
     "name": "stderr",
     "output_type": "stream",
     "text": [
      "You are using the default legacy behaviour of the <class 'transformers.models.t5.tokenization_t5.T5Tokenizer'>. This is expected, and simply means that the `legacy` (previous) behavior will be used so nothing changes for you. If you want to use the new behaviour, set `legacy=False`. This should only be set if you understand what it means, and thouroughly read the reason why this was added as explained in https://github.com/huggingface/transformers/pull/24565\n"
     ]
    }
   ],
   "source": [
    "\"\"\" \n",
    "Загрузка модели\n",
    "\"\"\"\n",
    "tokenizer = MT5Tokenizer.from_pretrained(\"google/mt5-small\")  \n",
    "model = MT5ForConditionalGeneration.from_pretrained('google/mt5-small')"
   ]
  },
  {
   "cell_type": "code",
   "execution_count": 13,
   "id": "2da4e226-d133-4fe6-9ef7-fc091502837c",
   "metadata": {},
   "outputs": [],
   "source": [
    "max_target_tokens_count = 128\n",
    "max_source_tokens_count = 1024\n",
    "\n",
    "\"\"\" \n",
    "Функция для предобработки текстовых значений\n",
    "\"\"\"\n",
    "def preprocess_function(examples):\n",
    "    inputs = examples[\"text\"]\n",
    "    model_inputs = tokenizer(inputs, max_length=max_source_tokens_count, truncation=True)\n",
    "\n",
    "    labels = tokenizer(text_target=examples[\"summary\"], max_length=max_target_tokens_count, truncation=True)\n",
    "\n",
    "    model_inputs[\"labels\"] = labels[\"input_ids\"]\n",
    "    \n",
    "    return model_inputs"
   ]
  },
  {
   "cell_type": "code",
   "execution_count": 14,
   "id": "e59276d7-cf80-47aa-ad58-fd3475df2445",
   "metadata": {},
   "outputs": [],
   "source": [
    "\"\"\" \n",
    "Токенизируем наши данные\n",
    "\"\"\"\n",
    "tokenized_dataset = dataset.map(preprocess_function, batched=True)"
   ]
  },
  {
   "cell_type": "code",
   "execution_count": 15,
   "id": "e7f4ceb9-f655-467d-9099-5821b8d1b23f",
   "metadata": {},
   "outputs": [],
   "source": [
    "\"\"\" \n",
    "Оправляем наши токены в модель\n",
    "\"\"\"\n",
    "data_collator = DataCollatorForSeq2Seq(tokenizer=tokenizer, model=model)"
   ]
  },
  {
   "cell_type": "code",
   "execution_count": 16,
   "id": "e40a66a3-883d-4501-9210-92fdc36ea99a",
   "metadata": {},
   "outputs": [],
   "source": [
    "\"\"\" \n",
    "Функция для подсчета метрик нашей модели\n",
    "\"\"\"\n",
    "def compute_metrics(eval_pred):\n",
    "    predictions, labels = eval_pred\n",
    "\n",
    "    predictions = np.where(predictions != -100, predictions, tokenizer.pad_token_id)\n",
    "    labels = np.where(labels != -100, labels, tokenizer.pad_token_id)\n",
    "\n",
    "    decoded_preds = tokenizer.batch_decode(predictions, skip_special_tokens = True)\n",
    "    decoded_labels = tokenizer.batch_decode(labels, skip_special_tokens = True)\n",
    "\n",
    "    decoded_preds = [\"\\n\".join(nltk.sent_tokenize(pred.strip())) for pred in decoded_preds]\n",
    "    decoded_labels = [\"\\n\".join(nltk.sent_tokenize(label.strip())) for label in decoded_labels]\n",
    "\n",
    "    result = {}\n",
    "    result_rouge = rouge.compute(predictions = decoded_preds, references = decoded_labels)\n",
    "    result.update({key: value * 100 for key, value in result_rouge.items()})\n",
    "\n",
    "    result_bleu = bleu.compute(predictions = decoded_preds, references = decoded_labels)\n",
    "    result[\"bleu\"] = result_bleu[\"bleu\"] * 100\n",
    "\n",
    "    prediction_lens = [np.count_nonzero(pred != tokenizer.pad_token_id) for pred in predictions]\n",
    "    result[\"gen_len\"] = np.mean(prediction_lens)\n",
    "    result[\"char_len\"] = np.mean([len(t) for t in decoded_preds])\n",
    "\n",
    "    return {k: round(v, 4) for k, v in result.items()}\n"
   ]
  },
  {
   "cell_type": "code",
   "execution_count": 17,
   "id": "5bfeffc1-b766-401c-9c33-8d9836be686d",
   "metadata": {},
   "outputs": [],
   "source": [
    "\"\"\"\n",
    "Задаем гиперпараметры \n",
    "\"\"\"\n",
    "training_args = Seq2SeqTrainingArguments(\n",
    "    output_dir = \"t5\", # директория для сохранения прогнозов модели и контрольных точек\n",
    "    evaluation_strategy = \"steps\",\n",
    "    eval_steps = 25, # количество шагов обновления между двумя оценками, если evaluation_strategy=\"steps\"\n",
    "    logging_steps = 25,\n",
    "    learning_rate = 4e-4, # начальная скорость обучения\n",
    "    per_device_train_batch_size = 4,\n",
    "    per_device_eval_batch_size = 4,\n",
    "    gradient_accumulation_steps = 64, # количество шагов обновления, для которых нужно накопить градиенты, перед выполнением обратного прохода/обновления\n",
    "    weight_decay = 0.01, # снижение веса\n",
    "    save_total_limit = 3, # общее количество контрольных точек\n",
    "    num_train_epochs = 1, # количество эпох\n",
    "    fp16 = False, # использовать ли 16-битное обучение\n",
    "    predict_with_generate = True,\n",
    "    generation_max_length = max_target_tokens_count, # максимальная длина предсказанного предложения\n",
    "    generation_num_beams = 5 \n",
    ")"
   ]
  },
  {
   "cell_type": "code",
   "execution_count": 18,
   "id": "c913fe66-bc41-494e-9930-3de56a068820",
   "metadata": {},
   "outputs": [
    {
     "name": "stderr",
     "output_type": "stream",
     "text": [
      "WARNING:accelerate.utils.other:Detected kernel version 4.15.0, which is below the recommended minimum of 5.5.0; this can cause the process to hang. It is recommended to upgrade the kernel to the minimum version or higher.\n"
     ]
    }
   ],
   "source": [
    "\"\"\"\n",
    "Объявляем цикл обучения, который специально оптимизирован для моделек-трансформеров\n",
    "\"\"\"\n",
    "trainer = Seq2SeqTrainer(\n",
    "    model = model, # наша базовая модель\n",
    "    args = training_args, # гиперпараметры модели\n",
    "    train_dataset = tokenized_dataset[\"train\"].select(range(1000)), # набор данных для обучения\n",
    "    eval_dataset = tokenized_dataset[\"test\"].select(range(300)), # набор данных для тестирования модели\n",
    "    tokenizer = tokenizer, # токенизатор для прдварительной обработки данных\n",
    "    data_collator = data_collator, # функция, используемая для формирования пакета из списка элементов train_datasetили eval_dataset\n",
    "    compute_metrics = compute_metrics # функция для вычисления метрик\n",
    ")"
   ]
  },
  {
   "cell_type": "code",
   "execution_count": 19,
   "id": "40f7f79b-0e13-4ec8-aef2-9a4230dbfa39",
   "metadata": {},
   "outputs": [
    {
     "data": {
      "text/html": [
       "\n",
       "    <div>\n",
       "      \n",
       "      <progress value='3' max='3' style='width:300px; height:20px; vertical-align: middle;'></progress>\n",
       "      [3/3 00:47, Epoch 0/1]\n",
       "    </div>\n",
       "    <table border=\"1\" class=\"dataframe\">\n",
       "  <thead>\n",
       " <tr style=\"text-align: left;\">\n",
       "      <th>Step</th>\n",
       "      <th>Training Loss</th>\n",
       "      <th>Validation Loss</th>\n",
       "    </tr>\n",
       "  </thead>\n",
       "  <tbody>\n",
       "  </tbody>\n",
       "</table><p>"
      ],
      "text/plain": [
       "<IPython.core.display.HTML object>"
      ]
     },
     "metadata": {},
     "output_type": "display_data"
    },
    {
     "data": {
      "text/plain": [
       "TrainOutput(global_step=3, training_loss=18.24051284790039, metrics={'train_runtime': 72.1428, 'train_samples_per_second': 13.861, 'train_steps_per_second': 0.042, 'total_flos': 811333353799680.0, 'train_loss': 18.24051284790039, 'epoch': 0.77})"
      ]
     },
     "execution_count": 19,
     "metadata": {},
     "output_type": "execute_result"
    }
   ],
   "source": [
    "\"\"\" \n",
    "Обучение модели\n",
    "\"\"\"\n",
    "trainer.train()"
   ]
  },
  {
   "cell_type": "code",
   "execution_count": 20,
   "id": "b001bd90-ca3a-4bd1-81b8-b0544709db13",
   "metadata": {},
   "outputs": [
    {
     "data": {
      "text/html": [
       "\n",
       "    <div>\n",
       "      \n",
       "      <progress value='75' max='75' style='width:300px; height:20px; vertical-align: middle;'></progress>\n",
       "      [75/75 03:16]\n",
       "    </div>\n",
       "    "
      ],
      "text/plain": [
       "<IPython.core.display.HTML object>"
      ]
     },
     "metadata": {},
     "output_type": "display_data"
    }
   ],
   "source": [
    "\"\"\" \n",
    "Тестирование модели\n",
    "\"\"\"\n",
    "result = trainer.evaluate()"
   ]
  },
  {
   "cell_type": "code",
   "execution_count": 21,
   "id": "c7bd9ad7-4039-48d9-9f9d-030c43400fbb",
   "metadata": {},
   "outputs": [
    {
     "name": "stdout",
     "output_type": "stream",
     "text": [
      "{'eval_loss': 9.208014488220215, 'eval_rouge1': 2.3497, 'eval_rouge2': 0.5859, 'eval_rougeL': 2.3949, 'eval_rougeLsum': 2.3844, 'eval_bleu': 0.9158, 'eval_gen_len': 34.75, 'eval_char_len': 108.4667, 'eval_runtime': 203.395, 'eval_samples_per_second': 1.475, 'eval_steps_per_second': 0.369, 'epoch': 0.77}\n"
     ]
    }
   ],
   "source": [
    "\"\"\"\n",
    "Значение метрик для модели T5\n",
    "\"\"\"\n",
    "print(result)"
   ]
  },
  {
   "cell_type": "markdown",
   "id": "6800e4ba",
   "metadata": {},
   "source": [
    "# Сравнение метрик"
   ]
  },
  {
   "cell_type": "code",
   "execution_count": 10,
   "id": "cf28bf63-f57c-43b6-90a1-a3c4fca9442f",
   "metadata": {},
   "outputs": [
    {
     "data": {
      "image/png": "[encoded data removed]",
      "text/plain": [
       "<Figure size 1000x500 with 1 Axes>"
      ]
     },
     "metadata": {},
     "output_type": "display_data"
    }
   ],
   "source": [
    "import matplotlib.pyplot as plt\n",
    "\n",
    "fig, ax = plt.subplots(figsize = (10, 5))\n",
    "\n",
    "\n",
    "models = ['mBart', 'T5']\n",
    "values = [mean_bleu_mbart['bleu'] * 100, result['eval_bleu']]\n",
    "\n",
    "ax.bar(models, values)\n",
    "\n",
    "ax.set_ylabel('Значение метрики')\n",
    "ax.set_title('Сравнение метрики Bleu')\n",
    "\n",
    "plt.show()"
   ]
  },
  {
   "cell_type": "code",
   "execution_count": 11,
   "id": "39cd73cb-300e-47b0-9390-a148e5b8c8f0",
   "metadata": {},
   "outputs": [
    {
     "data": {
      "image/png": "[encoded data removed]",
      "text/plain": [
       "<Figure size 1000x500 with 1 Axes>"
      ]
     },
     "metadata": {},
     "output_type": "display_data"
    }
   ],
   "source": [
    "fig, ax = plt.subplots(figsize = (10, 5))\n",
    "\n",
    "models = ['mBart', 'T5']\n",
    "values = [mean_bleu_mbart['bleu'] * 100, result['eval_rouge1']]\n",
    "\n",
    "ax.bar(models, values)\n",
    "\n",
    "ax.set_ylabel('Значение метрики')\n",
    "ax.set_title('Сравнение метрики Rouge')\n",
    "\n",
    "plt.show()"
   ]
  }
 ],
 "metadata": {
  "kernelspec": {
   "display_name": "Python 3",
   "language": "python",
   "name": "python3"
  },
  "language_info": {
   "codemirror_mode": {
    "name": "ipython",
    "version": 3
   },
   "file_extension": ".py",
   "mimetype": "text/x-python",
   "name": "python",
   "nbconvert_exporter": "python",
   "pygments_lexer": "ipython3",
   "version": "3.9.0"
  }
 },
 "nbformat": 4,
 "nbformat_minor": 5
}
