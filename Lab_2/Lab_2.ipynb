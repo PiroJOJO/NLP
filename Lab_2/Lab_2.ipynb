{
 "cells": [
  {
   "cell_type": "markdown",
   "metadata": {},
   "source": [
    "# Лабораторная работа №2"
   ]
  },
  {
   "cell_type": "code",
   "execution_count": 104,
   "metadata": {},
   "outputs": [],
   "source": [
    "import spacy\n",
    "from tqdm.auto import tqdm\n",
    "import pandas as pd\n",
    "from spacy.tokens import DocBin\n",
    "from sklearn.model_selection import train_test_split"
   ]
  },
  {
   "cell_type": "code",
   "execution_count": 105,
   "metadata": {},
   "outputs": [],
   "source": [
    "nlp = spacy.load(\"ru_core_news_md\")"
   ]
  },
  {
   "cell_type": "markdown",
   "metadata": {},
   "source": [
    "### Работа с данными"
   ]
  },
  {
   "cell_type": "code",
   "execution_count": 106,
   "metadata": {},
   "outputs": [
    {
     "data": {
      "text/html": [
       "<div>\n",
       "<style scoped>\n",
       "    .dataframe tbody tr th:only-of-type {\n",
       "        vertical-align: middle;\n",
       "    }\n",
       "\n",
       "    .dataframe tbody tr th {\n",
       "        vertical-align: top;\n",
       "    }\n",
       "\n",
       "    .dataframe thead th {\n",
       "        text-align: right;\n",
       "    }\n",
       "</style>\n",
       "<table border=\"1\" class=\"dataframe\">\n",
       "  <thead>\n",
       "    <tr style=\"text-align: right;\">\n",
       "      <th></th>\n",
       "      <th>review</th>\n",
       "      <th>sentiment</th>\n",
       "    </tr>\n",
       "  </thead>\n",
       "  <tbody>\n",
       "    <tr>\n",
       "      <th>0</th>\n",
       "      <td>качество плохое пошив ужасный (горловина напер...</td>\n",
       "      <td>negative</td>\n",
       "    </tr>\n",
       "    <tr>\n",
       "      <th>1</th>\n",
       "      <td>Товар отдали другому человеку, я не получила п...</td>\n",
       "      <td>negative</td>\n",
       "    </tr>\n",
       "    <tr>\n",
       "      <th>2</th>\n",
       "      <td>Ужасная синтетика! Тонкая, ничего общего с пре...</td>\n",
       "      <td>negative</td>\n",
       "    </tr>\n",
       "    <tr>\n",
       "      <th>3</th>\n",
       "      <td>товар не пришел, продавец продлил защиту без м...</td>\n",
       "      <td>negative</td>\n",
       "    </tr>\n",
       "    <tr>\n",
       "      <th>4</th>\n",
       "      <td>Кофточка голая синтетика, носить не возможно.</td>\n",
       "      <td>negative</td>\n",
       "    </tr>\n",
       "    <tr>\n",
       "      <th>...</th>\n",
       "      <td>...</td>\n",
       "      <td>...</td>\n",
       "    </tr>\n",
       "    <tr>\n",
       "      <th>89995</th>\n",
       "      <td>сделано достаточно хорошо. на ткани сделан рис...</td>\n",
       "      <td>positive</td>\n",
       "    </tr>\n",
       "    <tr>\n",
       "      <th>89996</th>\n",
       "      <td>Накидка шикарная. Спасибо большое провдо линяе...</td>\n",
       "      <td>positive</td>\n",
       "    </tr>\n",
       "    <tr>\n",
       "      <th>89997</th>\n",
       "      <td>спасибо большое ) продовца рекомендую.. заказа...</td>\n",
       "      <td>positive</td>\n",
       "    </tr>\n",
       "    <tr>\n",
       "      <th>89998</th>\n",
       "      <td>Очень довольна заказом! Меньше месяца в РБ.  К...</td>\n",
       "      <td>positive</td>\n",
       "    </tr>\n",
       "    <tr>\n",
       "      <th>89999</th>\n",
       "      <td>хорошая куртка. постороннего запаха нет. швы р...</td>\n",
       "      <td>positive</td>\n",
       "    </tr>\n",
       "  </tbody>\n",
       "</table>\n",
       "<p>90000 rows × 2 columns</p>\n",
       "</div>"
      ],
      "text/plain": [
       "                                                  review sentiment\n",
       "0      качество плохое пошив ужасный (горловина напер...  negative\n",
       "1      Товар отдали другому человеку, я не получила п...  negative\n",
       "2      Ужасная синтетика! Тонкая, ничего общего с пре...  negative\n",
       "3      товар не пришел, продавец продлил защиту без м...  negative\n",
       "4          Кофточка голая синтетика, носить не возможно.  negative\n",
       "...                                                  ...       ...\n",
       "89995  сделано достаточно хорошо. на ткани сделан рис...  positive\n",
       "89996  Накидка шикарная. Спасибо большое провдо линяе...  positive\n",
       "89997  спасибо большое ) продовца рекомендую.. заказа...  positive\n",
       "89998  Очень довольна заказом! Меньше месяца в РБ.  К...  positive\n",
       "89999  хорошая куртка. постороннего запаха нет. швы р...  positive\n",
       "\n",
       "[90000 rows x 2 columns]"
      ]
     },
     "execution_count": 106,
     "metadata": {},
     "output_type": "execute_result"
    }
   ],
   "source": [
    "\"\"\"\n",
    "Считываем наши данные и оформляем в DataFrame.\n",
    "\"\"\"\n",
    "df = pd.read_csv('women-clothing-accessories.3-class.balanced.csv', encoding=\"utf8\", sep='\\t')\n",
    "df"
   ]
  },
  {
   "cell_type": "code",
   "execution_count": 107,
   "metadata": {},
   "outputs": [
    {
     "data": {
      "text/plain": [
       "sentiment\n",
       "negative    30000\n",
       "neautral    30000\n",
       "positive    30000\n",
       "Name: count, dtype: int64"
      ]
     },
     "execution_count": 107,
     "metadata": {},
     "output_type": "execute_result"
    }
   ],
   "source": [
    "df['sentiment'].value_counts()"
   ]
  },
  {
   "cell_type": "code",
   "execution_count": 108,
   "metadata": {},
   "outputs": [
    {
     "name": "stdout",
     "output_type": "stream",
     "text": [
      "negative\n",
      "качество плохое пошив ужасный (горловина наперекос) Фото не соответствует Ткань ужасная рисунок блеклый маленький рукав не такой УЖАС!!!!! не стоит за такие деньги г.......\n"
     ]
    }
   ],
   "source": [
    "\"\"\"\n",
    "Мы оставляем только положительные и отрицательные отзывы.\n",
    "\"\"\"\n",
    "df = df[df['sentiment'] != 'neautral']\n",
    "print(df.iloc[0]['sentiment'])\n",
    "print(df.iloc[0]['review'])\n"
   ]
  },
  {
   "cell_type": "code",
   "execution_count": 109,
   "metadata": {},
   "outputs": [
    {
     "data": {
      "text/plain": [
       "12628    Заказываю юбку второй раз. Первый раз была в в...\n",
       "67730    Отличные джинсы, почиталась отзывы говорили за...\n",
       "69991    вполне приличное платье, я довольна покупкой. ...\n",
       "8525                     Не получила товар. Верните деньги\n",
       "8279     Ужас. Там где прозрачная ткань при первой стир...\n",
       "                               ...                        \n",
       "2715     после стирки блестящая нитка по всей кофте выл...\n",
       "11309    товар не получила, обещали вернуть деньги, я т...\n",
       "20807    заказываю 2ой раз 1 раз нормальные а второй ра...\n",
       "6681     Продавец быстро оформил и выслал товар.Спасибо...\n",
       "74046    на параметры 105/88/115, рост 168 см подошел X...\n",
       "Name: review, Length: 19800, dtype: object"
      ]
     },
     "execution_count": 109,
     "metadata": {},
     "output_type": "execute_result"
    }
   ],
   "source": [
    "\"\"\" \n",
    "Разделяем на обучающую и валидационную выборку.\n",
    "\"\"\"\n",
    "x_train, x_test, y_train, y_test = train_test_split(df['review'], df['sentiment'], test_size = 0.33, random_state = 42)\n",
    "x_test"
   ]
  },
  {
   "cell_type": "code",
   "execution_count": 110,
   "metadata": {},
   "outputs": [
    {
     "data": {
      "text/plain": [
       "('После нескольких месяцев ожидания товар так и не получила. Деньги вернули. Не советую покупать у этого продавца.',\n",
       " 'negative')"
      ]
     },
     "execution_count": 110,
     "metadata": {},
     "output_type": "execute_result"
    }
   ],
   "source": [
    "\"\"\" \n",
    "Создаем список кортежей для работы с pipeline.\n",
    "\"\"\"\n",
    "train = list(zip(x_train, y_train))\n",
    "train[5]"
   ]
  },
  {
   "cell_type": "code",
   "execution_count": 111,
   "metadata": {},
   "outputs": [
    {
     "data": {
      "text/plain": [
       "('Заказываю юбку второй раз. Первый раз была в восторге, но второй раз разочарована полностью. Размер не соответствует, заказывала S с обхватом талии 64, а пришла юбка с обхватом талии 72. Длина также не соответствует заявленной - 69. Пошито криво, сзади одна половинка больше другой, появилась резинка. На первой юбке (мятной) нет резинки. Имеются пятна. Единственное, что порадовало, так это быстрая доставка и полное отслеживание.',\n",
       " 'negative')"
      ]
     },
     "execution_count": 111,
     "metadata": {},
     "output_type": "execute_result"
    }
   ],
   "source": [
    "valid = list(zip(x_test, y_test))\n",
    "valid[0]"
   ]
  },
  {
   "cell_type": "code",
   "execution_count": 112,
   "metadata": {},
   "outputs": [],
   "source": [
    "def make_docs(data):\n",
    "    \"\"\"\n",
    "    Преобразует данные в spacy документы\n",
    "\n",
    "    Параметры:\n",
    "    ---------\n",
    "    Список (кортеж (текст, метка))\n",
    "\n",
    "    Возвращает:\n",
    "    ----------\n",
    "    Список (spacy.Doc.doc)\n",
    "    \"\"\"\n",
    "    docs = []\n",
    "    for doc, label in tqdm(nlp.pipe(data, as_tuples=True), total = len(data)):\n",
    "        if label == 'negative':\n",
    "            doc.cats[\"positive\"] = 0\n",
    "            doc.cats[\"negative\"] = 1\n",
    "        else:\n",
    "            doc.cats[\"positive\"] = 1\n",
    "            doc.cats[\"negative\"] = 0\n",
    "        docs.append(doc)\n",
    "    return docs"
   ]
  },
  {
   "cell_type": "code",
   "execution_count": 113,
   "metadata": {},
   "outputs": [
    {
     "name": "stderr",
     "output_type": "stream",
     "text": [
      "  0%|          | 0/40200 [00:00<?, ?it/s]"
     ]
    },
    {
     "name": "stderr",
     "output_type": "stream",
     "text": [
      "100%|██████████| 40200/40200 [03:41<00:00, 181.60it/s]\n"
     ]
    }
   ],
   "source": [
    "train_docs = make_docs(train)"
   ]
  },
  {
   "cell_type": "code",
   "execution_count": 114,
   "metadata": {},
   "outputs": [
    {
     "name": "stderr",
     "output_type": "stream",
     "text": [
      "100%|██████████| 19800/19800 [01:47<00:00, 183.76it/s]\n"
     ]
    }
   ],
   "source": [
    "valid_docs = make_docs(valid)"
   ]
  },
  {
   "cell_type": "code",
   "execution_count": 116,
   "metadata": {},
   "outputs": [],
   "source": [
    "\"\"\" \n",
    "Сохраняем наши данные для дальнейшего обучения модели.    \n",
    "\"\"\"\n",
    "doc_bin = DocBin(docs=train_docs)\n",
    "doc_bin.to_disk(\"train.spacy\")\n",
    "doc_bin = DocBin(docs=valid_docs)\n",
    "doc_bin.to_disk(\"valid.spacy\")"
   ]
  },
  {
   "cell_type": "markdown",
   "metadata": {},
   "source": [
    "### Прописываем с помощью базового конфига config.cfg для обучения модели"
   ]
  },
  {
   "cell_type": "code",
   "execution_count": 117,
   "metadata": {},
   "outputs": [
    {
     "name": "stdout",
     "output_type": "stream",
     "text": [
      "\u001b[38;5;2m✔ Auto-filled config with all values\u001b[0m\n",
      "\u001b[38;5;2m✔ Saved config\u001b[0m\n",
      "config.cfg\n",
      "You can now add your data and train your pipeline:\n",
      "python -m spacy train config.cfg --paths.train ./train.spacy --paths.dev ./dev.spacy\n"
     ]
    }
   ],
   "source": [
    "! python -m spacy init fill-config base_config.cfg config.cfg\n",
    "\n",
    "\"\"\" \n",
    "Созадем конфиг для обучения нашей модели на основе базового ( https://spacy.io/usage/training#quickstart ), указав его имя ( config.cfg ).\n",
    "\"\"\""
   ]
  },
  {
   "cell_type": "markdown",
   "metadata": {},
   "source": [
    "### Обучение модели"
   ]
  },
  {
   "cell_type": "code",
   "execution_count": 119,
   "metadata": {},
   "outputs": [
    {
     "name": "stdout",
     "output_type": "stream",
     "text": [
      "\u001b[38;5;2m✔ Created output directory: output\u001b[0m\n",
      "\u001b[38;5;4mℹ Saving to output directory: output\u001b[0m\n",
      "\u001b[38;5;4mℹ Using CPU\u001b[0m\n",
      "\u001b[1m\n",
      "=========================== Initializing pipeline ===========================\u001b[0m\n",
      "\u001b[38;5;2m✔ Initialized pipeline\u001b[0m\n",
      "\u001b[1m\n",
      "============================= Training pipeline =============================\u001b[0m\n",
      "\u001b[38;5;4mℹ Pipeline: ['textcat']\u001b[0m\n",
      "\u001b[38;5;4mℹ Initial learn rate: 0.001\u001b[0m\n",
      "E    #       LOSS TEXTCAT  CATS_SCORE  SCORE \n",
      "---  ------  ------------  ----------  ------\n",
      "  0       0          0.25       33.18    0.33\n",
      "  0     200         37.60       85.72    0.86\n",
      "  0     400         24.65       87.32    0.87\n",
      "  0     600         19.86       88.69    0.89\n",
      "  0     800         18.58       89.45    0.89\n",
      "  0    1000         17.54       90.62    0.91\n",
      "  0    1200         15.29       91.09    0.91\n",
      "  0    1400         14.99       91.34    0.91\n",
      "  0    1600         14.12       91.74    0.92\n",
      "  0    1800         13.32       91.97    0.92\n",
      "  0    2000         13.43       92.33    0.92\n",
      "  0    2200         12.37       92.55    0.93\n",
      "  0    2400         11.95       92.70    0.93\n",
      "  1    2600         10.74       92.74    0.93\n",
      "  1    2800          8.89       92.80    0.93\n",
      "  1    3000          9.40       92.79    0.93\n",
      "  1    3200          9.75       92.92    0.93\n",
      "  1    3400          9.09       92.96    0.93\n",
      "  1    3600          9.23       93.05    0.93\n",
      "  2    3800          7.85       93.06    0.93\n",
      "  2    4000          7.53       93.15    0.93\n",
      "  2    4200          7.63       93.03    0.93\n",
      "  2    4400          8.07       92.98    0.93\n",
      "  2    4600          7.25       93.05    0.93\n",
      "  3    4800          7.15       93.04    0.93\n",
      "  3    5000          6.52       93.08    0.93\n",
      "  3    5200          6.55       92.98    0.93\n",
      "  3    5400          6.49       92.94    0.93\n",
      "  3    5600          7.32       93.03    0.93\n",
      "\u001b[38;5;2m✔ Saved pipeline to output directory\u001b[0m\n",
      "output\\model-last\n"
     ]
    }
   ],
   "source": [
    "! python -m spacy train config.cfg --output ./output \n",
    "\n",
    "\"\"\" \n",
    "Обучаем нашу модель и прописываем путь, в котором мы сохраняем нашу последнюю и наилучшую модель.\n",
    "\"\"\""
   ]
  },
  {
   "cell_type": "code",
   "execution_count": null,
   "metadata": {},
   "outputs": [],
   "source": [
    "\"\"\" \n",
    "Загружаем нашу модель с наилучшим результатом.\n",
    "\"\"\"\n",
    "nlp = spacy.load(\"output/model-best\")"
   ]
  },
  {
   "cell_type": "markdown",
   "metadata": {},
   "source": [
    "### Тестирование модели"
   ]
  },
  {
   "cell_type": "code",
   "execution_count": 123,
   "metadata": {},
   "outputs": [
    {
     "name": "stdout",
     "output_type": "stream",
     "text": [
      "{'positive': 0.9271988272666931, 'negative': 0.07280117273330688}\n",
      "the sentiment is positive\n",
      "{'positive': 0.07049776613712311, 'negative': 0.9295022487640381}\n",
      "the sentiment is negative\n"
     ]
    }
   ],
   "source": [
    "\"\"\" \n",
    "Создаем тестовые отзывы и прогоняем их через обученную модель.\n",
    "\"\"\"\n",
    "text = [ \"Отличный товар! Всем домохозяйкам рекомендую.\" , \"Товар просто ужас!!! Никому не рекомендую! Ненавижу вас!\"]\n",
    "for t in text:\n",
    "    doc = nlp(t)\n",
    "    print(doc.cats)\n",
    "    if doc.cats['positive'] > 0.5:\n",
    "        print(f\"the sentiment is positive\")\n",
    "    else:\n",
    "        print(f\"the sentiment is negative\")"
   ]
  }
 ],
 "metadata": {
  "kernelspec": {
   "display_name": "Python 3",
   "language": "python",
   "name": "python3"
  },
  "language_info": {
   "codemirror_mode": {
    "name": "ipython",
    "version": 3
   },
   "file_extension": ".py",
   "mimetype": "text/x-python",
   "name": "python",
   "nbconvert_exporter": "python",
   "pygments_lexer": "ipython3",
   "version": "3.9.0"
  },
  "orig_nbformat": 4
 },
 "nbformat": 4,
 "nbformat_minor": 2
}
